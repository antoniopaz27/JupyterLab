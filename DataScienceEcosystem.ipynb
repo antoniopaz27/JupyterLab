{
  "metadata": {
    "kernelspec": {
      "name": "python",
      "display_name": "Python (Pyodide)",
      "language": "python"
    },
    "language_info": {
      "codemirror_mode": {
        "name": "python",
        "version": 3
      },
      "file_extension": ".py",
      "mimetype": "text/x-python",
      "name": "python",
      "nbconvert_exporter": "python",
      "pygments_lexer": "ipython3",
      "version": "3.8"
    }
  },
  "nbformat_minor": 5,
  "nbformat": 4,
  "cells": [
    {
      "id": "baf5a814-1dce-4be7-b4d4-981e10b0ec8d",
      "cell_type": "markdown",
      "source": "# Data Science Tools and Ecosystem",
      "metadata": {}
    },
    {
      "id": "a1752388-b892-4691-9eba-39b368b1ddae",
      "cell_type": "markdown",
      "source": "### In this notebook, Data Science Tools and Ecosystem are summarized. I´m triying to become a data science in genomics",
      "metadata": {}
    },
    {
      "id": "b796096a-356f-4c80-9729-3ab200019240",
      "cell_type": "markdown",
      "source": "**Objectives:**\n- List popular languages for Data Science\n- Examples of evaluating arithmetic expressions in Python\n- Markdown\n- JupyterLab\n",
      "metadata": {}
    },
    {
      "id": "2504a458-613a-463a-b1b9-c0b160583991",
      "cell_type": "markdown",
      "source": "| Data Science Tools |\n|--------------------|\n|R studio            |\n|JupyterLab          |\n|Spider              |",
      "metadata": {}
    },
    {
      "id": "26939265-d638-4714-a608-96d09d22e51e",
      "cell_type": "code",
      "source": "### Below are a few examples of evaluating arithmetic expressions in Python",
      "metadata": {
        "trusted": true
      },
      "outputs": [],
      "execution_count": 4
    },
    {
      "id": "3f6a2f71-b3d6-418a-bbe2-cf97556b7d34",
      "cell_type": "code",
      "source": "(3*4)+5\n#This a simple arithmetic expression to mutiply then add integers",
      "metadata": {
        "trusted": true
      },
      "outputs": [
        {
          "execution_count": 5,
          "output_type": "execute_result",
          "data": {
            "text/plain": "17"
          },
          "metadata": {}
        }
      ],
      "execution_count": 5
    }
  ]
}
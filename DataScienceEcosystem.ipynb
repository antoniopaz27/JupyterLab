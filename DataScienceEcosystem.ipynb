{
  "metadata": {
    "kernelspec": {
      "name": "python",
      "display_name": "Python (Pyodide)",
      "language": "python"
    },
    "language_info": {
      "codemirror_mode": {
        "name": "python",
        "version": 3
      },
      "file_extension": ".py",
      "mimetype": "text/x-python",
      "name": "python",
      "nbconvert_exporter": "python",
      "pygments_lexer": "ipython3",
      "version": "3.8"
    }
  },
  "nbformat_minor": 5,
  "nbformat": 4,
  "cells": [
    {
      "id": "baf5a814-1dce-4be7-b4d4-981e10b0ec8d",
      "cell_type": "markdown",
      "source": "# Data Science Tools and Ecosystem",
      "metadata": {}
    },
    {
      "id": "a1752388-b892-4691-9eba-39b368b1ddae",
      "cell_type": "markdown",
      "source": "### In this notebook, Data Science Tools and Ecosystem are summarized. I´m triying to become a data science in genomics",
      "metadata": {}
    },
    {
      "id": "b796096a-356f-4c80-9729-3ab200019240",
      "cell_type": "markdown",
      "source": "**Objectives:**\n- List popular languages for Data Science\n- Examples of evaluating arithmetic expressions in Python\n- Markdown\n- JupyterLab\n",
      "metadata": {}
    },
    {
      "id": "25db7346-afac-4531-a1c3-d9280babd2a6",
      "cell_type": "markdown",
      "source": "Some of the popular languages that Data Scientists use are:\n1. Python\n2. C\n1. R \n4. Java\n",
      "metadata": {}
    },
    {
      "id": "43ebd54b-02af-4f32-b214-4ab75cce63c2",
      "cell_type": "markdown",
      "source": "### Some of the commonly used libraries used by Data Scientists include:\n\n1. Matplotlib\n2. Pandas\n3. Numpy\n4. Plotty\n5. ggplot2",
      "metadata": {}
    },
    {
      "id": "2504a458-613a-463a-b1b9-c0b160583991",
      "cell_type": "markdown",
      "source": "| Data Science Tools |\n|--------------------|\n|R studio            |\n|JupyterLab          |\n|Spider              |",
      "metadata": {}
    },
    {
      "id": "26939265-d638-4714-a608-96d09d22e51e",
      "cell_type": "code",
      "source": "### Below are a few examples of evaluating arithmetic expressions in Python",
      "metadata": {
        "trusted": true
      },
      "outputs": [],
      "execution_count": 4
    },
    {
      "id": "3f6a2f71-b3d6-418a-bbe2-cf97556b7d34",
      "cell_type": "code",
      "source": "(3*4)+5\n#This a simple arithmetic expression to mutiply then add integers",
      "metadata": {
        "trusted": true
      },
      "outputs": [
        {
          "execution_count": 5,
          "output_type": "execute_result",
          "data": {
            "text/plain": "17"
          },
          "metadata": {}
        }
      ],
      "execution_count": 5
    },
    {
      "id": "eac642ee-dc6d-4996-86f3-e834ed7daa33",
      "cell_type": "code",
      "source": "#This will convert 200 minutes to hours by diving by 60\n200/60",
      "metadata": {
        "trusted": true
      },
      "outputs": [
        {
          "execution_count": 6,
          "output_type": "execute_result",
          "data": {
            "text/plain": "3.3333333333333335"
          },
          "metadata": {}
        }
      ],
      "execution_count": 6
    },
    {
      "id": "67f763a5-391e-4f66-80a2-1a6c87c71a28",
      "cell_type": "markdown",
      "source": "## Author: \n#### Antonio Paz",
      "metadata": {}
    }
  ]
}